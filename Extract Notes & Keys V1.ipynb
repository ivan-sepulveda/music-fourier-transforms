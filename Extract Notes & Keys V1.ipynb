{
 "cells": [
  {
   "cell_type": "code",
   "execution_count": 1,
   "id": "5bc257d8",
   "metadata": {},
   "outputs": [],
   "source": [
    "import plotly.graph_objects as go\n",
    "import matplotlib.pyplot as plt\n",
    "from scipy.fftpack import fft\n",
    "from scipy.io import wavfile # get the api\n",
    "import numpy as np\n",
    "import tqdm\n",
    "import os\n",
    "\n",
    "\n",
    "# See https://newt.phys.unsw.edu.au/jw/notes.html\n",
    "\n",
    "NOTE_NAMES = [\"C\", \"C#\", \"D\", \"D#\", \"E\", \"F\", \"F#\", \"G\", \"G#\", \"A\", \"A#\", \"B\"]\n",
    "\n",
    "def freq_to_midi(f): return 69 + 12*np.log2(f/440.0) # Pitch is often given by MIDI number\n",
    "def midi_to_freq(n): return 440 * 2.0**((n-69)/12.0) # MIDI back to Frequency\n",
    "def note_name(n): return NOTE_NAMES[n % 12] + str(int(n/12 - 1)) # Gives Detailed Note i.e. G3\n",
    "\n"
   ]
  },
  {
   "cell_type": "code",
   "execution_count": 24,
   "id": "80370e86",
   "metadata": {},
   "outputs": [],
   "source": [
    "# Grabbing file path\n",
    "TRACKS_DIR = os.path.join(os.getcwd(), \"tracks\")\n",
    "AUDIO_FILE = os.path.join(TRACKS_DIR, \"dos_gardenias.wav\")\n",
    "\n",
    "sampling_rate, data = wavfile.read(AUDIO_FILE) # load the data\n",
    "audio = data.T[0] # this is a two channel soundtrack, get the first channel\n",
    "\n",
    "FTT_WINDOW_SEC = 0.25 # In Seconds: We're going to extract most pronounced notes from every 0.250 second window\n",
    "FFT_WINDOW_SIZE = int(sampling_rate * FTT_WINDOW_SEC) # In Data Points - How many data points in each FFT window\n",
    "AUDIO_LENGTH = len(audio)/sampling_rate # Track length in seconds \n",
    "\n",
    "FREQ_MIN = 10 # Mininum Frequency to display\n",
    "FREQ_MAX = 4200 # Maximum frequency to display\n",
    "TOP_N_NOTES = 3\n",
    "\n",
    "# Hanning window function # TODO: Do more research to understand\n",
    "# \"Hanning window smoothly tapers the endpoints to zero and mitigates the discontinuity that produces leakage.\"\n",
    "window = 0.5 * (1 - np.cos(np.linspace(0, 2*np.pi, FFT_WINDOW_SIZE, False)))\n",
    "\n",
    "# In this context - A Frame is just an FFT Window\n",
    "FRAMES_PER_SEC = 30 # int(1/FTT_WINDOW_SEC) # Just change to 1/window size? WINDOW SIZE Must be <= 1\n",
    "FRAME_COUNT = int(AUDIO_LENGTH*FRAMES_PER_SEC) # Frames Per Sec in Video * Length of track in seconds\n",
    "FRAME_OFFSET = int(len(audio)/FRAME_COUNT) # How many data points are in each frame\n",
    "\n",
    "\n",
    "def extract_sample(audio, frame_number):\n",
    "    end = frame_number * FRAME_OFFSET\n",
    "    begin = int(end - FFT_WINDOW_SIZE)\n",
    "\n",
    "    if end == 0:  # We have no audio yet, return all zeros (very beginning)\n",
    "        return np.zeros((np.abs(begin)),dtype=float)\n",
    "    elif begin<0: # We have some audio, pad with zeros\n",
    "        return np.concatenate([np.zeros((np.abs(begin)),dtype=float),audio[0:end]])\n",
    "    else:         # Usually this happens, return the next sample\n",
    "        return audio[begin:end]\n",
    "\n",
    "    \n",
    "def find_max_frequency():\n",
    "    mx = 0\n",
    "    for frame_number in range(FRAME_COUNT):\n",
    "        sample = extract_sample(audio, frame_number)\n",
    "        fft = np.fft.rfft(sample * window)\n",
    "        fft = np.abs(fft).real \n",
    "        mx = max(np.max(fft),mx)\n",
    "\n",
    "    return mx\n",
    "\n",
    "def find_top_notes(fft,num):\n",
    "    if np.max(fft.real)<0.001:\n",
    "        return []\n",
    "\n",
    "    lst = [x for x in enumerate(fft.real)]\n",
    "    lst = sorted(lst, key=lambda x: x[1],reverse=True)\n",
    "\n",
    "    idx = 0\n",
    "    found = []\n",
    "    found_note = set()\n",
    "    while( (idx<len(lst)) and (len(found)<num) ):\n",
    "        f = xf[lst[idx][0]]\n",
    "        y = lst[idx][1]\n",
    "        n = freq_to_midi(f)\n",
    "        n0 = int(round(n))\n",
    "        name = note_name(n0)\n",
    "\n",
    "        if name not in found_note:\n",
    "            found_note.add(name)\n",
    "            s = [f,note_name(n0),y]\n",
    "            found.append(s)\n",
    "        idx += 1\n",
    "\n",
    "    return found\n",
    "\n",
    "\n",
    "MAX_FREQ = find_max_frequency()\n",
    "fs = sampling_rate\n",
    "xf = np.fft.rfftfreq(FFT_WINDOW_SIZE, 1/fs)\n",
    "\n",
    "\n",
    "# Figure out how to get rid of this at some point\n",
    "# Output size. Generally use SCALE for higher res, unless you need a non-standard aspect ratio.\n",
    "RESOLUTION = (1920, 1080)\n",
    "RESOLUTION = (1920/2, 1080/2)\n",
    "\n"
   ]
  },
  {
   "cell_type": "code",
   "execution_count": 46,
   "id": "56414ec9",
   "metadata": {},
   "outputs": [],
   "source": [
    "def extract_all_notes_all_windows():\n",
    "    top_notes_each_window = np.array([])\n",
    "\n",
    "    for frame_number in range(FRAME_COUNT):\n",
    "        sample = extract_sample(audio, frame_number)\n",
    "        fft = np.fft.rfft(sample * window)\n",
    "        fft = np.abs(fft) / MAX_FREQ \n",
    "        s = find_top_notes(fft,TOP_N_NOTES)\n",
    "        notes = [_[1] for _ in s]\n",
    "        top_notes_each_window = np.append(top_notes_each_window, notes)\n",
    "    return top_notes_each_window"
   ]
  },
  {
   "cell_type": "code",
   "execution_count": 51,
   "id": "f28167ec",
   "metadata": {},
   "outputs": [],
   "source": [
    "complete_note_seq = extract_all_notes_all_windows()"
   ]
  },
  {
   "cell_type": "code",
   "execution_count": 60,
   "id": "71cc5f2f",
   "metadata": {},
   "outputs": [
    {
     "data": {
      "text/plain": [
       "array(['B6', 'C7', 'C2', 'B6', 'C7', 'C#7', 'C7', 'B6', 'C#7', 'C7', 'B6',\n",
       "       'G6', 'C7', 'C5', 'C8', 'C7', 'C8', 'C5', 'C7', 'C8'], dtype='<U32')"
      ]
     },
     "execution_count": 60,
     "metadata": {},
     "output_type": "execute_result"
    }
   ],
   "source": [
    "complete_note_seq[:20]"
   ]
  },
  {
   "cell_type": "code",
   "execution_count": 57,
   "id": "14278256",
   "metadata": {},
   "outputs": [
    {
     "data": {
      "text/plain": [
       "{'A#2': 79,\n",
       " 'A#3': 159,\n",
       " 'A#4': 242,\n",
       " 'A#5': 134,\n",
       " 'A#6': 44,\n",
       " 'A0': 6,\n",
       " 'A1': 16,\n",
       " 'A2': 296,\n",
       " 'A3': 298,\n",
       " 'A4': 309,\n",
       " 'A5': 66,\n",
       " 'A6': 25,\n",
       " 'A7': 8,\n",
       " 'B1': 165,\n",
       " 'B2': 431,\n",
       " 'B3': 492,\n",
       " 'B4': 738,\n",
       " 'B5': 146,\n",
       " 'B6': 126,\n",
       " 'B7': 4,\n",
       " 'C#2': 462,\n",
       " 'C#3': 117,\n",
       " 'C#4': 236,\n",
       " 'C#5': 240,\n",
       " 'C#6': 47,\n",
       " 'C#7': 30,\n",
       " 'C1': 7,\n",
       " 'C2': 516,\n",
       " 'C3': 189,\n",
       " 'C4': 414,\n",
       " 'C5': 340,\n",
       " 'C6': 88,\n",
       " 'C7': 59,\n",
       " 'C8': 16,\n",
       " 'D#1': 5,\n",
       " 'D#2': 946,\n",
       " 'D#3': 145,\n",
       " 'D#4': 114,\n",
       " 'D#5': 275,\n",
       " 'D#6': 99,\n",
       " 'D#7': 46,\n",
       " 'D1': 8,\n",
       " 'D2': 379,\n",
       " 'D3': 334,\n",
       " 'D4': 149,\n",
       " 'D5': 273,\n",
       " 'D6': 74,\n",
       " 'D7': 44,\n",
       " 'E2': 828,\n",
       " 'E3': 397,\n",
       " 'E4': 338,\n",
       " 'E5': 410,\n",
       " 'E6': 55,\n",
       " 'E7': 22,\n",
       " 'E8': 4,\n",
       " 'F#2': 228,\n",
       " 'F#3': 1580,\n",
       " 'F#4': 247,\n",
       " 'F#5': 161,\n",
       " 'F#6': 13,\n",
       " 'F#7': 34,\n",
       " 'F2': 199,\n",
       " 'F3': 93,\n",
       " 'F4': 51,\n",
       " 'F5': 171,\n",
       " 'F6': 30,\n",
       " 'F7': 4,\n",
       " 'G#1': 4,\n",
       " 'G#2': 35,\n",
       " 'G#3': 85,\n",
       " 'G#4': 111,\n",
       " 'G#5': 86,\n",
       " 'G#6': 28,\n",
       " 'G#7': 15,\n",
       " 'G0': 4,\n",
       " 'G1': 5,\n",
       " 'G2': 259,\n",
       " 'G3': 919,\n",
       " 'G4': 327,\n",
       " 'G5': 133,\n",
       " 'G6': 15,\n",
       " 'G7': 14}"
      ]
     },
     "execution_count": 57,
     "metadata": {},
     "output_type": "execute_result"
    }
   ],
   "source": [
    "unique, counts = np.unique(complete_note_seq, return_counts=True)\n",
    "\n",
    "dict(zip(unique, counts))\n"
   ]
  },
  {
   "cell_type": "code",
   "execution_count": 52,
   "id": "ace9612c",
   "metadata": {},
   "outputs": [
    {
     "data": {
      "text/plain": [
       "16341"
      ]
     },
     "execution_count": 52,
     "metadata": {},
     "output_type": "execute_result"
    }
   ],
   "source": [
    "len(complete_note_seq)"
   ]
  },
  {
   "cell_type": "code",
   "execution_count": 53,
   "id": "c4cb56cd",
   "metadata": {},
   "outputs": [
    {
     "ename": "AttributeError",
     "evalue": "'numpy.ndarray' object has no attribute 'count'",
     "output_type": "error",
     "traceback": [
      "\u001b[0;31m---------------------------------------------------------------------------\u001b[0m",
      "\u001b[0;31mAttributeError\u001b[0m                            Traceback (most recent call last)",
      "Cell \u001b[0;32mIn[53], line 1\u001b[0m\n\u001b[0;32m----> 1\u001b[0m \u001b[43mcomplete_note_seq\u001b[49m\u001b[38;5;241;43m.\u001b[39;49m\u001b[43mcount\u001b[49m()\n",
      "\u001b[0;31mAttributeError\u001b[0m: 'numpy.ndarray' object has no attribute 'count'"
     ]
    }
   ],
   "source": [
    "complete_note_seq.count()"
   ]
  },
  {
   "cell_type": "code",
   "execution_count": 17,
   "id": "177f918b",
   "metadata": {},
   "outputs": [
    {
     "data": {
      "text/plain": [
       "29340"
      ]
     },
     "execution_count": 17,
     "metadata": {},
     "output_type": "execute_result"
    }
   ],
   "source": [
    "data.T[1].max()"
   ]
  },
  {
   "cell_type": "code",
   "execution_count": 18,
   "id": "f13e4fd4",
   "metadata": {},
   "outputs": [
    {
     "data": {
      "text/plain": [
       "28180"
      ]
     },
     "execution_count": 18,
     "metadata": {},
     "output_type": "execute_result"
    }
   ],
   "source": [
    "data.T[0].max()"
   ]
  },
  {
   "cell_type": "code",
   "execution_count": null,
   "id": "a813bd5c",
   "metadata": {},
   "outputs": [],
   "source": []
  },
  {
   "cell_type": "code",
   "execution_count": 8,
   "id": "8aa87b46",
   "metadata": {},
   "outputs": [],
   "source": [
    "import plotly.graph_objects as go\n",
    "\n",
    "def plot_fft(p, xf, fs, notes, dimensions=(960,540)):\n",
    "    layout = go.Layout(\n",
    "      title=\"frequency spectrum\",\n",
    "      autosize=False,\n",
    "      width=dimensions[0],\n",
    "      height=dimensions[1],\n",
    "      xaxis_title=\"Frequency (note)\",\n",
    "      yaxis_title=\"Magnitude\",\n",
    "      font={'size' : 24}\n",
    "    )\n",
    "\n",
    "    fig = go.Figure(layout=layout,\n",
    "                  layout_xaxis_range=[FREQ_MIN,FREQ_MAX],\n",
    "                  layout_yaxis_range=[0,1]\n",
    "                  )\n",
    "\n",
    "    fig.add_trace(go.Scatter(\n",
    "      x = xf,\n",
    "      y = p))\n",
    "\n",
    "    for note in notes:\n",
    "        fig.add_annotation(x=note[0]+10, y=note[2],\n",
    "                text=note[1],\n",
    "                font = {'size' : 48},\n",
    "                showarrow=False)\n",
    "    return fig"
   ]
  },
  {
   "cell_type": "code",
   "execution_count": 26,
   "id": "a19b37fc",
   "metadata": {},
   "outputs": [
    {
     "data": {
      "text/plain": [
       "11025"
      ]
     },
     "execution_count": 26,
     "metadata": {},
     "output_type": "execute_result"
    }
   ],
   "source": [
    "len(sample)"
   ]
  },
  {
   "cell_type": "code",
   "execution_count": 29,
   "id": "461a7b8a",
   "metadata": {},
   "outputs": [
    {
     "data": {
      "text/plain": [
       "11025.0"
      ]
     },
     "execution_count": 29,
     "metadata": {},
     "output_type": "execute_result"
    }
   ],
   "source": []
  },
  {
   "cell_type": "code",
   "execution_count": 30,
   "id": "675acad0",
   "metadata": {},
   "outputs": [
    {
     "data": {
      "text/plain": [
       "[[2100.0, 'C7', 0.1769333594108977],\n",
       " [4204.0, 'C8', 0.05079035360991278],\n",
       " [524.0, 'C5', 0.04208247100077738]]"
      ]
     },
     "execution_count": 30,
     "metadata": {},
     "output_type": "execute_result"
    }
   ],
   "source": [
    "\n",
    "#fig = plot_fft(fft.real,xf,fs,s,RESOLUTION)\n",
    "#fig.show()"
   ]
  },
  {
   "cell_type": "code",
   "execution_count": null,
   "id": "0ec644de",
   "metadata": {},
   "outputs": [],
   "source": [
    "!pip install --upgrade nbformat"
   ]
  },
  {
   "cell_type": "code",
   "execution_count": null,
   "id": "e164dafd",
   "metadata": {},
   "outputs": [],
   "source": [
    "sample = extract_sample(audio, frame_number)\n",
    "fft = np.fft.rfft(sample * window)\n",
    "fft = np.abs(fft).real \n",
    "mx = max(np.max(fft),mx)"
   ]
  },
  {
   "cell_type": "code",
   "execution_count": null,
   "id": "3aaf6e15",
   "metadata": {},
   "outputs": [],
   "source": [
    "mx"
   ]
  },
  {
   "cell_type": "code",
   "execution_count": null,
   "id": "47f2165e",
   "metadata": {},
   "outputs": [],
   "source": [
    "# Plot Sample\n",
    "plt.plot(sample)"
   ]
  },
  {
   "cell_type": "code",
   "execution_count": null,
   "id": "a5a5df47",
   "metadata": {},
   "outputs": [],
   "source": [
    "# Plot Sample * Window Function\n",
    "plt.plot(sample*window)"
   ]
  },
  {
   "cell_type": "code",
   "execution_count": null,
   "id": "0e092ed5",
   "metadata": {},
   "outputs": [],
   "source": []
  },
  {
   "cell_type": "code",
   "execution_count": null,
   "id": "f99d2629",
   "metadata": {},
   "outputs": [],
   "source": [
    "\n",
    "# Pass 1, find out the maximum amplitude so we can scale."
   ]
  },
  {
   "cell_type": "code",
   "execution_count": null,
   "id": "7e3112d8",
   "metadata": {},
   "outputs": [],
   "source": [
    "FRAME_COUNT"
   ]
  },
  {
   "cell_type": "code",
   "execution_count": null,
   "id": "8aa735cc",
   "metadata": {},
   "outputs": [],
   "source": []
  },
  {
   "cell_type": "code",
   "execution_count": null,
   "id": "b81aca19",
   "metadata": {},
   "outputs": [],
   "source": [
    "window"
   ]
  },
  {
   "cell_type": "code",
   "execution_count": null,
   "id": "208bb398",
   "metadata": {},
   "outputs": [],
   "source": []
  },
  {
   "cell_type": "code",
   "execution_count": null,
   "id": "05fd3490",
   "metadata": {},
   "outputs": [],
   "source": [
    "FTT_WINDOW_SEC = 0.25 # In Seconds\n",
    "TOP_N_NOTES = 3 # Notes to display \n",
    "\n",
    "# Names of the notes\n",
    "\n",
    "\n",
    "SCALE = 2 # 0.5=QHD(960x540), 1=HD(1920x1080), 2=4K(3840x2160)\n",
    "\n",
    "IMG_CONTENT_DIR = os.path.join(os.getcwd(), \"content\")\n",
    "print(os.path.exists(AUDIO_FILE))"
   ]
  },
  {
   "cell_type": "code",
   "execution_count": null,
   "id": "2d8a7085",
   "metadata": {},
   "outputs": [],
   "source": [
    "fs, data = wavfile.read(AUDIO_FILE) # load the data\n",
    "FRAME_STEP = (fs / FRAMES_PER_SEC) # audio samples per video frame\n",
    "\n",
    "#FRAME_COUNT = int(AUDIO_LENGTH*FRAMES_PER_SEC)"
   ]
  },
  {
   "cell_type": "code",
   "execution_count": null,
   "id": "bb323fc7",
   "metadata": {},
   "outputs": [],
   "source": [
    "AUDIO_LENGTH"
   ]
  },
  {
   "cell_type": "code",
   "execution_count": null,
   "id": "59938f8d",
   "metadata": {},
   "outputs": [],
   "source": [
    "\n",
    "\n"
   ]
  },
  {
   "cell_type": "code",
   "execution_count": null,
   "id": "d878e01b",
   "metadata": {},
   "outputs": [],
   "source": [
    "\n",
    "# Pass 2, produce the animation\n",
    "for frame_number in tqdm.tqdm(range(FRAME_COUNT)):\n",
    "    sample = extract_sample(audio, frame_number)\n",
    "\n",
    "    fft = np.fft.rfft(sample * window)\n",
    "    fft = np.abs(fft) / mx \n",
    "\n",
    "    s = find_top_notes(fft,TOP_N_NOTES)\n",
    "\n",
    "    fig = plot_fft(fft.real,xf,fs,s,RESOLUTION)\n",
    "    img_base_path = f\"frame{frame_number}.png\"\n",
    "    img_path = os.path.join(IMG_CONTENT_DIR, img_base_path)\n",
    "    fig.write_image(img_path,scale=2)\n",
    "\n"
   ]
  },
  {
   "cell_type": "code",
   "execution_count": null,
   "id": "0d177748",
   "metadata": {},
   "outputs": [],
   "source": [
    "!ffmpeg -y -r {FRAMES_PER_SEC} -f image2 -s 1920x1080 -i frame%d.png -i {AUDIO_FILE} -c:v libx264 -pix_fmt yuv420p movie.mp4\n"
   ]
  }
 ],
 "metadata": {
  "kernelspec": {
   "display_name": "Python [conda env:music_fft]",
   "language": "python",
   "name": "conda-env-music_fft-py"
  },
  "language_info": {
   "codemirror_mode": {
    "name": "ipython",
    "version": 3
   },
   "file_extension": ".py",
   "mimetype": "text/x-python",
   "name": "python",
   "nbconvert_exporter": "python",
   "pygments_lexer": "ipython3",
   "version": "3.10.11"
  }
 },
 "nbformat": 4,
 "nbformat_minor": 5
}
